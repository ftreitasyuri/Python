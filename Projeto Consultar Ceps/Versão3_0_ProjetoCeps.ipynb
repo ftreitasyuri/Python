{
  "cells": [
    {
      "cell_type": "code",
      "execution_count": null,
      "id": "5cbe4df8",
      "metadata": {
        "id": "5cbe4df8"
      },
      "outputs": [],
      "source": [
        "import pandas as pd\n",
        "from pycep_correios import get_address_from_cep, WebService, exceptions"
      ]
    },
    {
      "cell_type": "code",
      "execution_count": null,
      "id": "09d2730e",
      "metadata": {
        "id": "09d2730e",
        "outputId": "d1848b7c-daef-4d96-d17f-c1f64e89397e"
      },
      "outputs": [
        {
          "data": {
            "text/html": [
              "<div>\n",
              "<style scoped>\n",
              "    .dataframe tbody tr th:only-of-type {\n",
              "        vertical-align: middle;\n",
              "    }\n",
              "\n",
              "    .dataframe tbody tr th {\n",
              "        vertical-align: top;\n",
              "    }\n",
              "\n",
              "    .dataframe thead th {\n",
              "        text-align: right;\n",
              "    }\n",
              "</style>\n",
              "<table border=\"1\" class=\"dataframe\">\n",
              "  <thead>\n",
              "    <tr style=\"text-align: right;\">\n",
              "      <th></th>\n",
              "      <th>CepsOrigem</th>\n",
              "      <th>CepDestino</th>\n",
              "      <th>Altura</th>\n",
              "      <th>Comprimento</th>\n",
              "      <th>Largura</th>\n",
              "      <th>Peso</th>\n",
              "      <th>QTD</th>\n",
              "      <th>SKU</th>\n",
              "    </tr>\n",
              "  </thead>\n",
              "  <tbody>\n",
              "    <tr>\n",
              "      <th>0</th>\n",
              "      <td>{\"origin_zip_code\":\"025085340\"</td>\n",
              "      <td>73365766</td>\n",
              "      <td>height:100</td>\n",
              "      <td>length:100</td>\n",
              "      <td>width:100</td>\n",
              "      <td>weight:0.09</td>\n",
              "      <td>quantity:1</td>\n",
              "      <td>sku_id:\"13912920\"}]}</td>\n",
              "    </tr>\n",
              "    <tr>\n",
              "      <th>1</th>\n",
              "      <td>{\"origin_zip_code\":\"25085340\"</td>\n",
              "      <td>9860080</td>\n",
              "      <td>height:1</td>\n",
              "      <td>length:1</td>\n",
              "      <td>width:1</td>\n",
              "      <td>weight:0.01</td>\n",
              "      <td>quantity:1</td>\n",
              "      <td>sku_id:\"2792832998\"}]}</td>\n",
              "    </tr>\n",
              "    <tr>\n",
              "      <th>2</th>\n",
              "      <td>{\"origin_zip_code\":\"25085340\"</td>\n",
              "      <td>41347000</td>\n",
              "      <td>height:10</td>\n",
              "      <td>length:10</td>\n",
              "      <td>width:10</td>\n",
              "      <td>weight:0.01</td>\n",
              "      <td>quantity:1</td>\n",
              "      <td>sku_id:\"13912956\"}]}</td>\n",
              "    </tr>\n",
              "    <tr>\n",
              "      <th>3</th>\n",
              "      <td>{\"origin_zip_code\":\"25085340\"</td>\n",
              "      <td>72465400</td>\n",
              "      <td>height:78</td>\n",
              "      <td>length:180</td>\n",
              "      <td>width:90</td>\n",
              "      <td>weight:3</td>\n",
              "      <td>quantity:1</td>\n",
              "      <td>sku_id:\"48380362\"}]}</td>\n",
              "    </tr>\n",
              "    <tr>\n",
              "      <th>4</th>\n",
              "      <td>{\"origin_zip_code\":\"25085340\"</td>\n",
              "      <td>55825000</td>\n",
              "      <td>height:12</td>\n",
              "      <td>length:12</td>\n",
              "      <td>width:12</td>\n",
              "      <td>weight:0.12</td>\n",
              "      <td>quantity:1</td>\n",
              "      <td>sku_id:\"76950453\"}]}</td>\n",
              "    </tr>\n",
              "    <tr>\n",
              "      <th>5</th>\n",
              "      <td>{\"origin_zip_code\":\"25085340\"</td>\n",
              "      <td>76824220</td>\n",
              "      <td>height:120</td>\n",
              "      <td>length:34</td>\n",
              "      <td>width:195</td>\n",
              "      <td>weight:1</td>\n",
              "      <td>quantity:1</td>\n",
              "      <td>sku_id:\"45587032\"}]}</td>\n",
              "    </tr>\n",
              "    <tr>\n",
              "      <th>6</th>\n",
              "      <td>{\"origin_zip_code\":\"25085340\"</td>\n",
              "      <td>13212321</td>\n",
              "      <td>height:2</td>\n",
              "      <td>length:12</td>\n",
              "      <td>width:12</td>\n",
              "      <td>weight:0.13</td>\n",
              "      <td>quantity:1</td>\n",
              "      <td>sku_id:\"2792847268\"}]}</td>\n",
              "    </tr>\n",
              "    <tr>\n",
              "      <th>7</th>\n",
              "      <td>{\"origin_zip_code\":\"25085340\"</td>\n",
              "      <td>29164077</td>\n",
              "      <td>height:46</td>\n",
              "      <td>length:188</td>\n",
              "      <td>width:88</td>\n",
              "      <td>weight:40</td>\n",
              "      <td>quantity:1</td>\n",
              "      <td>sku_id:\"39657034\"}]}</td>\n",
              "    </tr>\n",
              "  </tbody>\n",
              "</table>\n",
              "</div>"
            ],
            "text/plain": [
              "                       CepsOrigem  CepDestino      Altura Comprimento  \\\n",
              "0  {\"origin_zip_code\":\"025085340\"    73365766  height:100  length:100   \n",
              "1   {\"origin_zip_code\":\"25085340\"     9860080    height:1    length:1   \n",
              "2   {\"origin_zip_code\":\"25085340\"    41347000   height:10   length:10   \n",
              "3   {\"origin_zip_code\":\"25085340\"    72465400   height:78  length:180   \n",
              "4   {\"origin_zip_code\":\"25085340\"    55825000   height:12   length:12   \n",
              "5   {\"origin_zip_code\":\"25085340\"    76824220  height:120   length:34   \n",
              "6   {\"origin_zip_code\":\"25085340\"    13212321    height:2   length:12   \n",
              "7   {\"origin_zip_code\":\"25085340\"    29164077   height:46  length:188   \n",
              "\n",
              "     Largura         Peso         QTD                     SKU  \n",
              "0  width:100  weight:0.09  quantity:1    sku_id:\"13912920\"}]}  \n",
              "1    width:1  weight:0.01  quantity:1  sku_id:\"2792832998\"}]}  \n",
              "2   width:10  weight:0.01  quantity:1    sku_id:\"13912956\"}]}  \n",
              "3   width:90     weight:3  quantity:1    sku_id:\"48380362\"}]}  \n",
              "4   width:12  weight:0.12  quantity:1    sku_id:\"76950453\"}]}  \n",
              "5  width:195     weight:1  quantity:1    sku_id:\"45587032\"}]}  \n",
              "6   width:12  weight:0.13  quantity:1  sku_id:\"2792847268\"}]}  \n",
              "7   width:88    weight:40  quantity:1    sku_id:\"39657034\"}]}  "
            ]
          },
          "execution_count": 504,
          "metadata": {},
          "output_type": "execute_result"
        }
      ],
      "source": [
        "# Criando um variável a partir do pandas e fazendo o updaload de um arquivo xlsx(excel)\n",
        "n1 = pd.read_excel('CepsCotacao.xlsx')\n",
        "n1.head(8)"
      ]
    },
    {
      "cell_type": "code",
      "execution_count": null,
      "id": "233663f5",
      "metadata": {
        "id": "233663f5",
        "outputId": "a50f7561-63d7-48e2-8277-1f53cd8bb543"
      },
      "outputs": [
        {
          "data": {
            "text/plain": [
              "1728"
            ]
          },
          "execution_count": 505,
          "metadata": {},
          "output_type": "execute_result"
        }
      ],
      "source": [
        "n2 = n1['CepDestino'].to_list()\n",
        "len(n2)"
      ]
    },
    {
      "cell_type": "code",
      "execution_count": null,
      "id": "458c1943",
      "metadata": {
        "id": "458c1943",
        "outputId": "19263874-5d2e-44ce-d600-a925f26f012f"
      },
      "outputs": [
        {
          "name": "stdout",
          "output_type": "stream",
          "text": [
            "Fim\n"
          ]
        }
      ],
      "source": [
        "# É necessário transformar cada item (ceps) em uma string\n",
        "# Como fazer: Criar um loop para percorrer a lista de ceps e transformar cada item em uma string\n",
        "inc = 0\n",
        "for item in n2:\n",
        "    n2[inc] = str(item)\n",
        "    inc += 1\n",
        "print('Fim')"
      ]
    },
    {
      "cell_type": "code",
      "execution_count": null,
      "id": "50677faa",
      "metadata": {
        "id": "50677faa",
        "outputId": "e0da46af-2b5b-40ad-988c-e7f95d55d736"
      },
      "outputs": [
        {
          "data": {
            "text/plain": [
              "str"
            ]
          },
          "execution_count": 507,
          "metadata": {},
          "output_type": "execute_result"
        }
      ],
      "source": [
        "# Consultando o tipo de um item da lista\n",
        "type(n2[0])"
      ]
    },
    {
      "cell_type": "code",
      "execution_count": null,
      "id": "2ddb3222",
      "metadata": {
        "id": "2ddb3222",
        "outputId": "4eecb852-7508-4a29-fbe8-6934657f2672"
      },
      "outputs": [
        {
          "name": "stdout",
          "output_type": "stream",
          "text": [
            "Fim\n"
          ]
        }
      ],
      "source": [
        "# Para cada cep na lista de ceps, é preciso checar se o comprimento do cep é < do que 8 digitos\n",
        "# Caso seja menor é preciso concatenar o valor 0 à esquerda do cep\n",
        "# Como fazer: Criar um loop para percorrer a lista de ceps e verificar o comprimento de cada item\n",
        "# Para cada item menor do que 8 digitos concatenar o 0 à esquerda e salvar ele na lista novamente\n",
        "for item in range(len(n2)):\n",
        "    \n",
        "    if len(n2[item]) < 8:\n",
        "        Z = '0'\n",
        "        n1 = n2[item]\n",
        "        CepSP = Z + n1\n",
        "        n2[item] = CepSP\n",
        "        \n",
        "#     else:\n",
        "#         print(n2)\n",
        "print('Fim')\n",
        "        "
      ]
    },
    {
      "cell_type": "code",
      "execution_count": null,
      "id": "5ce1378b",
      "metadata": {
        "id": "5ce1378b",
        "outputId": "3aa3151d-20d8-4c93-ba70-11d24099d07f"
      },
      "outputs": [
        {
          "data": {
            "text/plain": [
              "1728"
            ]
          },
          "execution_count": 509,
          "metadata": {},
          "output_type": "execute_result"
        }
      ],
      "source": [
        "# Checando o comprimento da lsita ou quantos itens tem nela\n",
        "len(n2)"
      ]
    },
    {
      "cell_type": "code",
      "execution_count": null,
      "id": "b88f1beb",
      "metadata": {
        "id": "b88f1beb"
      },
      "outputs": [],
      "source": [
        "# Criando e inicializando listaCeps * o comprimento da lista n2\n",
        "listaCeps = [None] * len(n2)"
      ]
    },
    {
      "cell_type": "code",
      "execution_count": null,
      "id": "b29b2392",
      "metadata": {
        "id": "b29b2392",
        "outputId": "ff9b8d8e-da76-4e2f-de13-8a27e31722e0"
      },
      "outputs": [
        {
          "name": "stdout",
          "output_type": "stream",
          "text": [
            "CEP NAO ENCONTRADO\n"
          ]
        }
      ],
      "source": [
        "# Consultando ceps na API dos Correios\n",
        "for item in range(len(n2)):\n",
        "    \n",
        "    try:\n",
        "        address = get_address_from_cep(n2[item], webservice=WebService.CORREIOS)   \n",
        "    \n",
        "    except exceptions.InvalidCEP as eic:\n",
        "        print(eic)\n",
        "\n",
        "    except exceptions.CEPNotFound as ecnf:\n",
        "        print(ecnf)\n",
        "\n",
        "    except exceptions.ConnectionError as errc:\n",
        "        print(errc)\n",
        "\n",
        "    except exceptions.Timeout as errt:\n",
        "        print(errt)\n",
        "\n",
        "    except exceptions.HTTPError as errh:\n",
        "        print(errh)\n",
        "\n",
        "    except exceptions.BaseException as e:\n",
        "        print(e)\n",
        "#     Salvando cada response na listaCeps no item referente ao loop\n",
        "    listaCeps[item] = address\n",
        "    \n"
      ]
    },
    {
      "cell_type": "code",
      "execution_count": null,
      "id": "65598e7d",
      "metadata": {
        "id": "65598e7d",
        "outputId": "b2bba07f-32a3-4b87-e40a-9f0b6f91e013"
      },
      "outputs": [
        {
          "data": {
            "text/plain": [
              "1728"
            ]
          },
          "execution_count": 519,
          "metadata": {},
          "output_type": "execute_result"
        }
      ],
      "source": [
        "# Checando o comprimento da lista\n",
        "len(listaCeps)"
      ]
    },
    {
      "cell_type": "code",
      "execution_count": null,
      "id": "38818da6",
      "metadata": {
        "id": "38818da6"
      },
      "outputs": [],
      "source": [
        "# Passando a listaCeps para um dataFrame\n",
        "df1 = pd.DataFrame(listaCeps)"
      ]
    },
    {
      "cell_type": "code",
      "execution_count": null,
      "id": "d3f8c6eb",
      "metadata": {
        "id": "d3f8c6eb",
        "outputId": "860923c9-64cb-47d4-ec37-6395908113f9"
      },
      "outputs": [
        {
          "data": {
            "text/html": [
              "<div>\n",
              "<style scoped>\n",
              "    .dataframe tbody tr th:only-of-type {\n",
              "        vertical-align: middle;\n",
              "    }\n",
              "\n",
              "    .dataframe tbody tr th {\n",
              "        vertical-align: top;\n",
              "    }\n",
              "\n",
              "    .dataframe thead th {\n",
              "        text-align: right;\n",
              "    }\n",
              "</style>\n",
              "<table border=\"1\" class=\"dataframe\">\n",
              "  <thead>\n",
              "    <tr style=\"text-align: right;\">\n",
              "      <th></th>\n",
              "      <th>bairro</th>\n",
              "      <th>cep</th>\n",
              "      <th>cidade</th>\n",
              "      <th>logradouro</th>\n",
              "      <th>uf</th>\n",
              "      <th>complemento</th>\n",
              "    </tr>\n",
              "  </thead>\n",
              "  <tbody>\n",
              "    <tr>\n",
              "      <th>0</th>\n",
              "      <td>Residencial São Francisco I (Planaltina)</td>\n",
              "      <td>73365766</td>\n",
              "      <td>Brasília</td>\n",
              "      <td>Rua B</td>\n",
              "      <td>DF</td>\n",
              "      <td>None</td>\n",
              "    </tr>\n",
              "    <tr>\n",
              "      <th>1</th>\n",
              "      <td>Independência</td>\n",
              "      <td>09860080</td>\n",
              "      <td>São Bernardo do Campo</td>\n",
              "      <td>Rua Antônio Carlos de Lima</td>\n",
              "      <td>SP</td>\n",
              "      <td>(Jd V Cruz)</td>\n",
              "    </tr>\n",
              "    <tr>\n",
              "      <th>2</th>\n",
              "      <td>Fazenda Grande I</td>\n",
              "      <td>41347000</td>\n",
              "      <td>Salvador</td>\n",
              "      <td>Rua Vereador Zezéu Ribeiro</td>\n",
              "      <td>BA</td>\n",
              "      <td>None</td>\n",
              "    </tr>\n",
              "    <tr>\n",
              "      <th>3</th>\n",
              "      <td>Setor Leste (Gama)</td>\n",
              "      <td>72465400</td>\n",
              "      <td>Brasília</td>\n",
              "      <td>Quadra 40</td>\n",
              "      <td>DF</td>\n",
              "      <td>None</td>\n",
              "    </tr>\n",
              "    <tr>\n",
              "      <th>4</th>\n",
              "      <td>None</td>\n",
              "      <td>55825000</td>\n",
              "      <td>Paudalho</td>\n",
              "      <td>None</td>\n",
              "      <td>PE</td>\n",
              "      <td>None</td>\n",
              "    </tr>\n",
              "    <tr>\n",
              "      <th>...</th>\n",
              "      <td>...</td>\n",
              "      <td>...</td>\n",
              "      <td>...</td>\n",
              "      <td>...</td>\n",
              "      <td>...</td>\n",
              "      <td>...</td>\n",
              "    </tr>\n",
              "    <tr>\n",
              "      <th>1723</th>\n",
              "      <td>Casa Grande</td>\n",
              "      <td>09960670</td>\n",
              "      <td>Diadema</td>\n",
              "      <td>Rua Bach</td>\n",
              "      <td>SP</td>\n",
              "      <td>(Jd Arco-Íris)</td>\n",
              "    </tr>\n",
              "    <tr>\n",
              "      <th>1724</th>\n",
              "      <td>None</td>\n",
              "      <td>99660000</td>\n",
              "      <td>Campinas do Sul</td>\n",
              "      <td>None</td>\n",
              "      <td>RS</td>\n",
              "      <td>None</td>\n",
              "    </tr>\n",
              "    <tr>\n",
              "      <th>1725</th>\n",
              "      <td>Aldo Arioli</td>\n",
              "      <td>99711134</td>\n",
              "      <td>Erechim</td>\n",
              "      <td>Rua João Antônio Dalla Rosa</td>\n",
              "      <td>RS</td>\n",
              "      <td>None</td>\n",
              "    </tr>\n",
              "    <tr>\n",
              "      <th>1726</th>\n",
              "      <td>Vila Nogueira</td>\n",
              "      <td>09990080</td>\n",
              "      <td>Diadema</td>\n",
              "      <td>Avenida Doutor Ulysses Guimarães</td>\n",
              "      <td>SP</td>\n",
              "      <td>- de 2800/2801 ao fim</td>\n",
              "    </tr>\n",
              "    <tr>\n",
              "      <th>1727</th>\n",
              "      <td>Conceição</td>\n",
              "      <td>09991120</td>\n",
              "      <td>Diadema</td>\n",
              "      <td>Rua Tupi</td>\n",
              "      <td>SP</td>\n",
              "      <td>None</td>\n",
              "    </tr>\n",
              "  </tbody>\n",
              "</table>\n",
              "<p>1728 rows × 6 columns</p>\n",
              "</div>"
            ],
            "text/plain": [
              "                                        bairro       cep  \\\n",
              "0     Residencial São Francisco I (Planaltina)  73365766   \n",
              "1                                Independência  09860080   \n",
              "2                             Fazenda Grande I  41347000   \n",
              "3                           Setor Leste (Gama)  72465400   \n",
              "4                                         None  55825000   \n",
              "...                                        ...       ...   \n",
              "1723                               Casa Grande  09960670   \n",
              "1724                                      None  99660000   \n",
              "1725                               Aldo Arioli  99711134   \n",
              "1726                             Vila Nogueira  09990080   \n",
              "1727                                 Conceição  09991120   \n",
              "\n",
              "                     cidade                        logradouro  uf  \\\n",
              "0                  Brasília                             Rua B  DF   \n",
              "1     São Bernardo do Campo        Rua Antônio Carlos de Lima  SP   \n",
              "2                  Salvador        Rua Vereador Zezéu Ribeiro  BA   \n",
              "3                  Brasília                         Quadra 40  DF   \n",
              "4                  Paudalho                              None  PE   \n",
              "...                     ...                               ...  ..   \n",
              "1723                Diadema                          Rua Bach  SP   \n",
              "1724        Campinas do Sul                              None  RS   \n",
              "1725                Erechim       Rua João Antônio Dalla Rosa  RS   \n",
              "1726                Diadema  Avenida Doutor Ulysses Guimarães  SP   \n",
              "1727                Diadema                          Rua Tupi  SP   \n",
              "\n",
              "                complemento  \n",
              "0                      None  \n",
              "1               (Jd V Cruz)  \n",
              "2                      None  \n",
              "3                      None  \n",
              "4                      None  \n",
              "...                     ...  \n",
              "1723         (Jd Arco-Íris)  \n",
              "1724                   None  \n",
              "1725                   None  \n",
              "1726  - de 2800/2801 ao fim  \n",
              "1727                   None  \n",
              "\n",
              "[1728 rows x 6 columns]"
            ]
          },
          "execution_count": 521,
          "metadata": {},
          "output_type": "execute_result"
        }
      ],
      "source": [
        "# Imprimindo resultado\n",
        "df1"
      ]
    },
    {
      "cell_type": "code",
      "execution_count": null,
      "id": "7b72deaa",
      "metadata": {
        "id": "7b72deaa",
        "outputId": "daf0b94b-2c19-43f3-8e90-1053f56511c2"
      },
      "outputs": [
        {
          "data": {
            "text/html": [
              "<div>\n",
              "<style scoped>\n",
              "    .dataframe tbody tr th:only-of-type {\n",
              "        vertical-align: middle;\n",
              "    }\n",
              "\n",
              "    .dataframe tbody tr th {\n",
              "        vertical-align: top;\n",
              "    }\n",
              "\n",
              "    .dataframe thead th {\n",
              "        text-align: right;\n",
              "    }\n",
              "</style>\n",
              "<table border=\"1\" class=\"dataframe\">\n",
              "  <thead>\n",
              "    <tr style=\"text-align: right;\">\n",
              "      <th></th>\n",
              "      <th>cep</th>\n",
              "      <th>logradouro</th>\n",
              "      <th>bairro</th>\n",
              "      <th>cidade</th>\n",
              "      <th>uf</th>\n",
              "    </tr>\n",
              "  </thead>\n",
              "  <tbody>\n",
              "    <tr>\n",
              "      <th>0</th>\n",
              "      <td>73365766</td>\n",
              "      <td>Rua B</td>\n",
              "      <td>Residencial São Francisco I (Planaltina)</td>\n",
              "      <td>Brasília</td>\n",
              "      <td>DF</td>\n",
              "    </tr>\n",
              "    <tr>\n",
              "      <th>1</th>\n",
              "      <td>09860080</td>\n",
              "      <td>Rua Antônio Carlos de Lima</td>\n",
              "      <td>Independência</td>\n",
              "      <td>São Bernardo do Campo</td>\n",
              "      <td>SP</td>\n",
              "    </tr>\n",
              "    <tr>\n",
              "      <th>2</th>\n",
              "      <td>41347000</td>\n",
              "      <td>Rua Vereador Zezéu Ribeiro</td>\n",
              "      <td>Fazenda Grande I</td>\n",
              "      <td>Salvador</td>\n",
              "      <td>BA</td>\n",
              "    </tr>\n",
              "    <tr>\n",
              "      <th>3</th>\n",
              "      <td>72465400</td>\n",
              "      <td>Quadra 40</td>\n",
              "      <td>Setor Leste (Gama)</td>\n",
              "      <td>Brasília</td>\n",
              "      <td>DF</td>\n",
              "    </tr>\n",
              "    <tr>\n",
              "      <th>4</th>\n",
              "      <td>55825000</td>\n",
              "      <td>None</td>\n",
              "      <td>None</td>\n",
              "      <td>Paudalho</td>\n",
              "      <td>PE</td>\n",
              "    </tr>\n",
              "    <tr>\n",
              "      <th>...</th>\n",
              "      <td>...</td>\n",
              "      <td>...</td>\n",
              "      <td>...</td>\n",
              "      <td>...</td>\n",
              "      <td>...</td>\n",
              "    </tr>\n",
              "    <tr>\n",
              "      <th>1723</th>\n",
              "      <td>09960670</td>\n",
              "      <td>Rua Bach</td>\n",
              "      <td>Casa Grande</td>\n",
              "      <td>Diadema</td>\n",
              "      <td>SP</td>\n",
              "    </tr>\n",
              "    <tr>\n",
              "      <th>1724</th>\n",
              "      <td>99660000</td>\n",
              "      <td>None</td>\n",
              "      <td>None</td>\n",
              "      <td>Campinas do Sul</td>\n",
              "      <td>RS</td>\n",
              "    </tr>\n",
              "    <tr>\n",
              "      <th>1725</th>\n",
              "      <td>99711134</td>\n",
              "      <td>Rua João Antônio Dalla Rosa</td>\n",
              "      <td>Aldo Arioli</td>\n",
              "      <td>Erechim</td>\n",
              "      <td>RS</td>\n",
              "    </tr>\n",
              "    <tr>\n",
              "      <th>1726</th>\n",
              "      <td>09990080</td>\n",
              "      <td>Avenida Doutor Ulysses Guimarães</td>\n",
              "      <td>Vila Nogueira</td>\n",
              "      <td>Diadema</td>\n",
              "      <td>SP</td>\n",
              "    </tr>\n",
              "    <tr>\n",
              "      <th>1727</th>\n",
              "      <td>09991120</td>\n",
              "      <td>Rua Tupi</td>\n",
              "      <td>Conceição</td>\n",
              "      <td>Diadema</td>\n",
              "      <td>SP</td>\n",
              "    </tr>\n",
              "  </tbody>\n",
              "</table>\n",
              "<p>1728 rows × 5 columns</p>\n",
              "</div>"
            ],
            "text/plain": [
              "           cep                        logradouro  \\\n",
              "0     73365766                             Rua B   \n",
              "1     09860080        Rua Antônio Carlos de Lima   \n",
              "2     41347000        Rua Vereador Zezéu Ribeiro   \n",
              "3     72465400                         Quadra 40   \n",
              "4     55825000                              None   \n",
              "...        ...                               ...   \n",
              "1723  09960670                          Rua Bach   \n",
              "1724  99660000                              None   \n",
              "1725  99711134       Rua João Antônio Dalla Rosa   \n",
              "1726  09990080  Avenida Doutor Ulysses Guimarães   \n",
              "1727  09991120                          Rua Tupi   \n",
              "\n",
              "                                        bairro                 cidade  uf  \n",
              "0     Residencial São Francisco I (Planaltina)               Brasília  DF  \n",
              "1                                Independência  São Bernardo do Campo  SP  \n",
              "2                             Fazenda Grande I               Salvador  BA  \n",
              "3                           Setor Leste (Gama)               Brasília  DF  \n",
              "4                                         None               Paudalho  PE  \n",
              "...                                        ...                    ...  ..  \n",
              "1723                               Casa Grande                Diadema  SP  \n",
              "1724                                      None        Campinas do Sul  RS  \n",
              "1725                               Aldo Arioli                Erechim  RS  \n",
              "1726                             Vila Nogueira                Diadema  SP  \n",
              "1727                                 Conceição                Diadema  SP  \n",
              "\n",
              "[1728 rows x 5 columns]"
            ]
          },
          "execution_count": 522,
          "metadata": {},
          "output_type": "execute_result"
        }
      ],
      "source": [
        "# Criando um novo dataFrame a partir do df1 apenas com as colunas/variáveis desejadas\n",
        "df2 = df1[['cep', 'logradouro', 'bairro', 'cidade', 'uf']]\n",
        "# Imprimento resultado\n",
        "df2"
      ]
    },
    {
      "cell_type": "code",
      "execution_count": null,
      "id": "7a719754",
      "metadata": {
        "id": "7a719754"
      },
      "outputs": [],
      "source": [
        "# Criando um nome para o arquivo\n",
        "file_name = 'DadosCepsTratados.xlsx'\n",
        "# Criando uma planilha excel a partir do dataFrame df2 com o nome acima e o index false\n",
        "df2.to_excel(file_name, index = False)"
      ]
    },
    {
      "cell_type": "code",
      "execution_count": null,
      "id": "bfa52610",
      "metadata": {
        "id": "bfa52610"
      },
      "outputs": [],
      "source": [
        ""
      ]
    }
  ],
  "metadata": {
    "kernelspec": {
      "display_name": "Python 3 (ipykernel)",
      "language": "python",
      "name": "python3"
    },
    "language_info": {
      "codemirror_mode": {
        "name": "ipython",
        "version": 3
      },
      "file_extension": ".py",
      "mimetype": "text/x-python",
      "name": "python",
      "nbconvert_exporter": "python",
      "pygments_lexer": "ipython3",
      "version": "3.9.7"
    },
    "colab": {
      "name": "Versão3.0_ProjetoCeps.ipynb",
      "provenance": []
    }
  },
  "nbformat": 4,
  "nbformat_minor": 5
}