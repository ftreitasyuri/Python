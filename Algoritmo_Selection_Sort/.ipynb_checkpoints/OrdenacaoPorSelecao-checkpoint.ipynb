{
 "cells": [
  {
   "cell_type": "code",
   "execution_count": 1,
   "id": "f263e264",
   "metadata": {},
   "outputs": [
    {
     "name": "stdout",
     "output_type": "stream",
     "text": [
      "[0, 1, 2, 3, 4, 5, 6, 7, 8, 9]\n"
     ]
    }
   ],
   "source": [
    "lista = [8, 5, 2, 6, 9, 3, 1, 4, 0, 7]\n",
    "\n",
    "comprimento = len(lista)\n",
    "\n",
    "for j in range(comprimento -1):\n",
    "    min_index = j\n",
    "    for i in range(j, comprimento):\n",
    "        if lista[i] < lista[min_index]:\n",
    "            min_index = i\n",
    "        if lista[j] > lista[min_index]:\n",
    "            aux = lista[j]\n",
    "            lista[j] = lista[min_index]\n",
    "            lista[min_index] = aux\n",
    "print(lista)"
   ]
  }
 ],
 "metadata": {
  "kernelspec": {
   "display_name": "Python 3 (ipykernel)",
   "language": "python",
   "name": "python3"
  },
  "language_info": {
   "codemirror_mode": {
    "name": "ipython",
    "version": 3
   },
   "file_extension": ".py",
   "mimetype": "text/x-python",
   "name": "python",
   "nbconvert_exporter": "python",
   "pygments_lexer": "ipython3",
   "version": "3.9.7"
  }
 },
 "nbformat": 4,
 "nbformat_minor": 5
}
