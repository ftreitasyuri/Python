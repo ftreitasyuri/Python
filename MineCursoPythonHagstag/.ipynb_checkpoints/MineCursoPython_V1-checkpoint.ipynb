{
 "cells": [
  {
   "cell_type": "code",
   "execution_count": 2,
   "id": "4c2273af",
   "metadata": {},
   "outputs": [],
   "source": [
    "# Importar a base de dados\n",
    "# Visualizar a base de dados\n",
    "# faturamento por loja\n",
    "# quantidade de produtos vendidos por loja\n",
    "# ticket médio por produto em cada loja\n",
    "# enviar um email com o relatório\n"
   ]
  },
  {
   "cell_type": "code",
   "execution_count": 1,
   "id": "f19015fa",
   "metadata": {},
   "outputs": [],
   "source": [
    "import pandas as pd\n"
   ]
  }
 ],
 "metadata": {
  "kernelspec": {
   "display_name": "Python 3",
   "language": "python",
   "name": "python3"
  },
  "language_info": {
   "codemirror_mode": {
    "name": "ipython",
    "version": 3
   },
   "file_extension": ".py",
   "mimetype": "text/x-python",
   "name": "python",
   "nbconvert_exporter": "python",
   "pygments_lexer": "ipython3",
   "version": "3.8.8"
  }
 },
 "nbformat": 4,
 "nbformat_minor": 5
}
