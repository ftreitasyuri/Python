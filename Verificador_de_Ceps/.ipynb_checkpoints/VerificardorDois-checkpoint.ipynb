{
 "cells": [
  {
   "cell_type": "code",
   "execution_count": null,
   "id": "dca9d90c",
   "metadata": {},
   "outputs": [],
   "source": [
    "def main():\n",
    "    import requests\n",
    "    print('|-------------------------------------|')\n",
    "    print('| ---------- Consulta CEP ----------  |')\n",
    "    print('|-------------------------------------|')\n",
    "    print('')\n",
    "\n",
    "\n",
    "\n",
    "    \n",
    "    cep_input = input('Digite o CEP para a consulta: ')\n",
    "    print('') \n",
    "\n",
    "    if len(cep_input) != 8:\n",
    "        print('Quantidade de digitos inválida!')\n",
    "        exit()\n",
    "\n",
    "    requests = requests.get('https://viacep.com.br/ws/{}/json/'.format(cep_input))\n",
    "    retorno_cep = requests.json()\n",
    "\n",
    "    if 'erro' not in retorno_cep:\n",
    "        print(' * CEP Encontrado com sucesso * ')\n",
    "        print('CEP: ',retorno_cep['cep'])\n",
    "        print('Rua: ',retorno_cep['logradouro'])\n",
    "        print('Nairro: ',retorno_cep['bairro'])\n",
    "        print('Estado: ',retorno_cep['uf'])\n",
    "        print('')\n",
    "\n",
    "        #print(requests.json())\n",
    "    else:\n",
    "        print('CEP inválido!')\n",
    "\n",
    "    option = int(input('Deseja realizar um nova consulta? \\n 1. Sim \\n 2. Não \\n'))\n",
    "    if option == 1:\n",
    "        main()\n",
    "    else:\n",
    "        print('Saindo...')\n",
    "\n",
    "if __name__ == '__main__':\n",
    "    main()"
   ]
  }
 ],
 "metadata": {
  "kernelspec": {
   "display_name": "Python 3 (ipykernel)",
   "language": "python",
   "name": "python3"
  },
  "language_info": {
   "codemirror_mode": {
    "name": "ipython",
    "version": 3
   },
   "file_extension": ".py",
   "mimetype": "text/x-python",
   "name": "python",
   "nbconvert_exporter": "python",
   "pygments_lexer": "ipython3",
   "version": "3.9.7"
  }
 },
 "nbformat": 4,
 "nbformat_minor": 5
}
